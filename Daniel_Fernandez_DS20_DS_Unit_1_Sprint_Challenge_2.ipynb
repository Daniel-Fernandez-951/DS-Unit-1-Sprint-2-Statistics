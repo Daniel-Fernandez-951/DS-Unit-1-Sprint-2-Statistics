{
  "nbformat": 4,
  "nbformat_minor": 0,
  "metadata": {
    "colab": {
      "name": "Daniel-Fernandez-DS20_DS_Unit_1_Sprint_Challenge_2.ipynb",
      "provenance": [],
      "collapsed_sections": [],
      "include_colab_link": true
    },
    "kernelspec": {
      "name": "python3",
      "display_name": "Python 3"
    }
  },
  "cells": [
    {
      "cell_type": "markdown",
      "metadata": {
        "id": "view-in-github",
        "colab_type": "text"
      },
      "source": [
        "<a href=\"https://colab.research.google.com/github/Daniel-Fernandez-951/DS-Unit-1-Sprint-2-Statistics/blob/master/Daniel_Fernandez_DS20_DS_Unit_1_Sprint_Challenge_2.ipynb\" target=\"_parent\"><img src=\"https://colab.research.google.com/assets/colab-badge.svg\" alt=\"Open In Colab\"/></a>"
      ]
    },
    {
      "cell_type": "markdown",
      "metadata": {
        "id": "NooAiTdnafkz",
        "colab_type": "text"
      },
      "source": [
        "# Data Science Unit 1 Sprint Challenge 2\n",
        "\n",
        "## Exploring Data, Testing Hypotheses\n",
        "\n",
        "*Updated July 17, 2020*\n",
        "\n",
        "In this sprint challenge you will look at a dataset of echocardiogram data and other health measures of individuals who have suffered heart attacks using the following dataset:\n",
        "\n",
        "<https://archive.ics.uci.edu/ml/datasets/Echocardiogram>\n",
        "\n",
        "Attribute Information:\n",
        "\n",
        "1. **survival** -- the number of months patient survived (has survived, if patient is still alive). Because all the patients had their heart attacks at different times, it is possible that some patients have survived less than one year but they are still alive. Check the second variable to confirm this. Such patients cannot be used for the prediction task mentioned above.\n",
        "2. **still-alive** -- a binary variable. 0=dead at end of survival period, 1 means still alive\n",
        "3. **age-at-heart-attack** -- age in years when heart attack occurred\n",
        "4. **pericardial-effusion** -- binary. Pericardial effusion is fluid around the heart. 0=no fluid, 1=fluid\n",
        "5. **fractional-shortening** -- a measure of contracility around the heart lower numbers are increasingly abnormal\n",
        "6. **epss** -- E-point septal separation, another measure of contractility. Larger numbers are increasingly abnormal.\n",
        "7. **lvdd** -- left ventricular end-diastolic dimension. This is a measure of the size of the heart at end-diastole. Large hearts tend to be sick hearts.\n",
        "8. **wall-motion-score** -- a measure of how the segments of the left ventricle are moving\n",
        "9. **wall-motion-index** -- equals wall-motion-score divided by number of segments seen. Usually 12-13 segments are seen in an echocardiogram. Use this variable INSTEAD of the wall motion score.\n",
        "10. **mult** -- a derivate var which can be ignored\n",
        "11. **name** -- the name of the patient (I have replaced them with \"name\")\n",
        "12. **group** -- meaningless, ignore it\n",
        "13. **alive-at-1** -- Boolean-valued. Derived from the first two attributes. 0 means patient was either dead after 1 year or had been followed for less than 1 year. 1 means patient was alive at 1 year.\n",
        "\n",
        "Sprint challenges are evaluated based on satisfactory completion of each part. It is suggested you work through it in order, getting each aspect reasonably working, before trying to deeply explore, iterate, or refine any given step. Once you get to the end, if you want to go back and improve things, go for it!"
      ]
    },
    {
      "cell_type": "markdown",
      "metadata": {
        "id": "5wch6ksCbJtZ",
        "colab_type": "text"
      },
      "source": [
        "## Part 1 - Load and validate the data\n",
        "\n",
        "- Load the data as a `pandas` data frame.\n",
        "\n",
        "- There is an anomaly with row 50 of the data (index position 49). It does not have enough columns. Please include `skiprows=[49]` in your `read_csv()` function call. You must indicate specific rows to be skipped as a list or else `read_csv()` will skip all rows up to and including the row to be skipped. \n",
        "\n",
        "- Your dataset should initially have 131 rows and 13 columns\n",
        "\n",
        "- Use the attribute information listed above to name your column headers.\n",
        "\n",
        "- UCI says there should be missing data - check, and if necessary change the data so pandas recognizes the missing value indicators as NaN.\n",
        "\n",
        "- The `name` column has been altered to only include the string 'name' to protect the privacy of patients. The `group` column is also meaningless. Please drop both of these columns, you will then have 11 columns usable data.\n"
      ]
    },
    {
      "cell_type": "code",
      "metadata": {
        "id": "odW5Q-b_6jTJ",
        "colab_type": "code",
        "colab": {
          "base_uri": "https://localhost:8080/",
          "height": 34
        },
        "outputId": "45640902-5bc6-44bb-b45d-5d5c1394e767"
      },
      "source": [
        "import pandas as pd\n",
        "import numpy as np\n",
        "from scipy import stats\n",
        "columns = ['survival', 'still-alive', 'age-at-heart-attack', 'pericardial-effusion',\n",
        "           'fractional-shortening', 'epss', 'lvdd', 'wall-motion-score', 'wall-motion-index',\n",
        "           'mult', 'name', 'group', 'alive-at-1']\n",
        "\n",
        "df = pd.read_csv('https://archive.ics.uci.edu/ml/machine-learning-databases/echocardiogram/echocardiogram.data', names=columns, skiprows=[49])\n",
        "df = df.drop(columns=['name', 'group'], axis='columns')\n",
        "print(df.shape)\n",
        "df = df.replace(\"?\", np.NaN)\n",
        "df.head(10)\n",
        "df[['fractional-shortening', 'epss', 'survival', 'age-at-heart-attack', 'lvdd', 'wall-motion-score', 'wall-motion-index', 'mult']] = df[['fractional-shortening', 'epss', 'survival', 'age-at-heart-attack', 'lvdd', 'wall-motion-score', 'wall-motion-index', 'mult']].astype(float)\n",
        "df['alive-at-1'] = df['alive-at-1'].astype(float)"
      ],
      "execution_count": 150,
      "outputs": [
        {
          "output_type": "stream",
          "text": [
            "(131, 11)\n"
          ],
          "name": "stdout"
        }
      ]
    },
    {
      "cell_type": "markdown",
      "metadata": {
        "id": "G7rLytbrO38L",
        "colab_type": "text"
      },
      "source": [
        "## Part 2 - Exploring data, Testing hypotheses\n",
        "\n",
        "### Explore the Data\n",
        "\n",
        "Explore the data: you can use whatever approach (tables, Pandas EDA functions, visualizations, etc.) to get an impression of the distributions and relationships of the variables. In general, your goal is to understand which variables are numeric and which are categorical -in order to identify columns that might be suitable for t-tests, chi^2 tests and the building of confidence intervals. \n",
        "\n",
        "When exploring the categorical data it may be helpful to create use crosstabs aka [contingency tables](https://en.wikipedia.org/wiki/Contingency_table) in order to compare the relationships between categorical variables.\n",
        "\n",
        "It will also be helpful to keep an eye out for variables that you could use to split the data into two different samples for conducting two-sample t-tests.\n",
        "\n",
        "Remember, numeric variables can still be categorical if they are represented using discrete (countable e.g. - just a few) values.\n",
        "\n",
        "---\n",
        "\n",
        "### Hypothesis Tests\n",
        "\n",
        "Once you feel like you have a good handle on the types of variables in the dataset, please conduct at least:\n",
        "\n",
        "- Two 1-sample t-tests\n",
        "- Two 2-sample t-tests\n",
        "- Two chi^2 tests\n",
        "\n",
        "For each test please write out your: \n",
        "- null hypothesis\n",
        "- alternative hypothesis\n",
        "- confidence level\n",
        "- conclusion\n",
        "\n",
        "Your *main* goal is the hypothesis tests, so don't spend too much time on the exploration/visualization piece. That is just a means to an end.\n"
      ]
    },
    {
      "cell_type": "markdown",
      "metadata": {
        "id": "Hjliql0bOWa4",
        "colab_type": "text"
      },
      "source": [
        "### Exploratory Data Analysis"
      ]
    },
    {
      "cell_type": "code",
      "metadata": {
        "id": "bXiiocvtHgM7",
        "colab_type": "code",
        "colab": {}
      },
      "source": [
        "df.info()"
      ],
      "execution_count": null,
      "outputs": []
    },
    {
      "cell_type": "code",
      "metadata": {
        "id": "blk1u0Tq0dl8",
        "colab_type": "code",
        "colab": {}
      },
      "source": [
        "df.head(10)"
      ],
      "execution_count": null,
      "outputs": []
    },
    {
      "cell_type": "markdown",
      "metadata": {
        "id": "AKJRXtlWOYeS",
        "colab_type": "text"
      },
      "source": [
        "### One-Sample T-tests"
      ]
    },
    {
      "cell_type": "code",
      "metadata": {
        "id": "o47l_PzOOhee",
        "colab_type": "code",
        "colab": {
          "base_uri": "https://localhost:8080/",
          "height": 34
        },
        "outputId": "690a2221-34d9-4af1-e213-e54224ecfd78"
      },
      "source": [
        "# FIRST\n",
        "# T-TEST 1-SAMPLE\n",
        "\n",
        "# H-null: Average age of HA is not 55\n",
        "# H-alt: Average age of HA is 55\n",
        "# Confidence level at 95%\n",
        "df1_tt1 = df.dropna()\n",
        "stats.ttest_1samp(df1_tt1['age-at-heart-attack'], 55)\n",
        "\n",
        "# Successful in rejecting the null hypothesis (H-null) due to the p-value equating\n",
        "# below 0.05 @ 6.4765 e -12; thus it is more safe to assume the alternative \n",
        "# hypothesis that the average age for a HA is around 55."
      ],
      "execution_count": 130,
      "outputs": [
        {
          "output_type": "execute_result",
          "data": {
            "text/plain": [
              "Ttest_1sampResult(statistic=8.516516631325539, pvalue=6.476502607331888e-12)"
            ]
          },
          "metadata": {
            "tags": []
          },
          "execution_count": 130
        }
      ]
    },
    {
      "cell_type": "code",
      "metadata": {
        "id": "fKJmn__44dDf",
        "colab_type": "code",
        "colab": {
          "base_uri": "https://localhost:8080/",
          "height": 34
        },
        "outputId": "7ba72942-a26e-4141-e66e-8c0a9b4b3331"
      },
      "source": [
        "# SECOND\n",
        "# T-TEST 1-SAMPLE\n",
        "\n",
        "# H-null: Average fractional shortening is not 0.280\n",
        "# H-alt: Average fractional shortening is 0.280\n",
        "# Confidence level at 95%\n",
        "df2_tt1 = df.dropna()\n",
        "stats.ttest_1samp(df2_tt1['fractional-shortening'], 0.280)\n",
        "\n",
        "# Sucessful in rejecting the null hypothesis due to the p-value falling below\n",
        "# 0.05 @ 3.4518 e -05; thus is it more safe to assume the alternative\n",
        "# hypothesis that the average FS is around 0.280"
      ],
      "execution_count": 131,
      "outputs": [
        {
          "output_type": "execute_result",
          "data": {
            "text/plain": [
              "Ttest_1sampResult(statistic=-4.476660114801637, pvalue=3.4518235307137975e-05)"
            ]
          },
          "metadata": {
            "tags": []
          },
          "execution_count": 131
        }
      ]
    },
    {
      "cell_type": "markdown",
      "metadata": {
        "id": "vDiA_nksOdT5",
        "colab_type": "text"
      },
      "source": [
        "### Two-Sample T-tests"
      ]
    },
    {
      "cell_type": "code",
      "metadata": {
        "id": "o060TTDLOiDF",
        "colab_type": "code",
        "colab": {
          "base_uri": "https://localhost:8080/",
          "height": 34
        },
        "outputId": "de43edcf-3eee-4cef-de19-9aead21eed93"
      },
      "source": [
        "# FIRST\n",
        "# T-TEST 2-SAMPLE\n",
        "\n",
        "# H-null: There is no difference in 'fractional-shortening' due to age\n",
        "# H-alt: There is a difference in 'fractional-shortening' due to age\n",
        "# Confidence Interval = 95%\n",
        "\n",
        "age_low_mask = df['age-at-heart-attack'] < 55.5\n",
        "df_low = df[age_low_mask]\n",
        "age_high_mask = df['age-at-heart-attack'] > 55.5\n",
        "df_high = df[age_high_mask]\n",
        "stats.ttest_ind(df_high['fractional-shortening'], df_low['fractional-shortening'], nan_policy='omit')\n",
        "\n",
        "# Conclusion: Failed to reject null hypothesis due to the p-value falling below\n",
        "# the confidence interval. There seems to be no link between age and 'fractional-shortening'\n",
        "# probably due to the metric (fractional shortening) is a metric shared by those\n",
        "# who expirience a heart attack."
      ],
      "execution_count": 96,
      "outputs": [
        {
          "output_type": "execute_result",
          "data": {
            "text/plain": [
              "Ttest_indResult(statistic=-0.5581414693736411, pvalue=0.5778052497496161)"
            ]
          },
          "metadata": {
            "tags": []
          },
          "execution_count": 96
        }
      ]
    },
    {
      "cell_type": "code",
      "metadata": {
        "id": "T7VR9omn7stE",
        "colab_type": "code",
        "colab": {
          "base_uri": "https://localhost:8080/",
          "height": 34
        },
        "outputId": "b3cb55a7-ca2b-40c6-dfd9-eb98d48cf44c"
      },
      "source": [
        "# SECOND\n",
        "# T-TEST 2-SAMPLE\n",
        "\n",
        "# H-null: Amoung the dead, age had no effect over survival\n",
        "# H-alt: Amoung the dead, age had an effect over survival\n",
        "# Confidence Interval = 95%\n",
        "\n",
        "ded_mask = df['still-alive'] == 0\n",
        "df_ded = df[ded_mask]\n",
        "low_mask = df_ded['age-at-heart-attack'] < 61.5\n",
        "high_mask = df_ded['age-at-heart-attack'] > 61.5\n",
        "\n",
        "df_ded_low = df_ded[low_mask]\n",
        "df_ded_high = df_ded[high_mask]\n",
        "\n",
        "stats.ttest_ind(df_ded_low['survival'], df_ded_high['survival'], nan_policy='omit')\n",
        "\n",
        "# Conclusion: Failed to reject the null hypothesis due to the p-value being above\n",
        "# confidence interval."
      ],
      "execution_count": 102,
      "outputs": [
        {
          "output_type": "execute_result",
          "data": {
            "text/plain": [
              "Ttest_indResult(statistic=0.45422182744761574, pvalue=0.6508547890163583)"
            ]
          },
          "metadata": {
            "tags": []
          },
          "execution_count": 102
        }
      ]
    },
    {
      "cell_type": "markdown",
      "metadata": {
        "id": "1yxRrPRkOdk9",
        "colab_type": "text"
      },
      "source": [
        "### Chi^2 T-tests"
      ]
    },
    {
      "cell_type": "code",
      "metadata": {
        "id": "Y0ZRfvx8P2BQ",
        "colab_type": "code",
        "colab": {
          "base_uri": "https://localhost:8080/",
          "height": 1000
        },
        "outputId": "7aa07cb1-b006-49ba-cc5c-80a0e8853814"
      },
      "source": [
        "df.head(30)"
      ],
      "execution_count": 144,
      "outputs": [
        {
          "output_type": "execute_result",
          "data": {
            "text/html": [
              "<div>\n",
              "<style scoped>\n",
              "    .dataframe tbody tr th:only-of-type {\n",
              "        vertical-align: middle;\n",
              "    }\n",
              "\n",
              "    .dataframe tbody tr th {\n",
              "        vertical-align: top;\n",
              "    }\n",
              "\n",
              "    .dataframe thead th {\n",
              "        text-align: right;\n",
              "    }\n",
              "</style>\n",
              "<table border=\"1\" class=\"dataframe\">\n",
              "  <thead>\n",
              "    <tr style=\"text-align: right;\">\n",
              "      <th></th>\n",
              "      <th>survival</th>\n",
              "      <th>still-alive</th>\n",
              "      <th>age-at-heart-attack</th>\n",
              "      <th>pericardial-effusion</th>\n",
              "      <th>fractional-shortening</th>\n",
              "      <th>epss</th>\n",
              "      <th>lvdd</th>\n",
              "      <th>wall-motion-score</th>\n",
              "      <th>wall-motion-index</th>\n",
              "      <th>mult</th>\n",
              "      <th>alive-at-1</th>\n",
              "    </tr>\n",
              "  </thead>\n",
              "  <tbody>\n",
              "    <tr>\n",
              "      <th>0</th>\n",
              "      <td>11.00</td>\n",
              "      <td>0</td>\n",
              "      <td>71.000</td>\n",
              "      <td>0</td>\n",
              "      <td>0.260</td>\n",
              "      <td>9.000</td>\n",
              "      <td>4.600</td>\n",
              "      <td>14.00</td>\n",
              "      <td>1.000</td>\n",
              "      <td>1.000</td>\n",
              "      <td>0.0</td>\n",
              "    </tr>\n",
              "    <tr>\n",
              "      <th>1</th>\n",
              "      <td>19.00</td>\n",
              "      <td>0</td>\n",
              "      <td>72.000</td>\n",
              "      <td>0</td>\n",
              "      <td>0.380</td>\n",
              "      <td>6.000</td>\n",
              "      <td>4.100</td>\n",
              "      <td>14.00</td>\n",
              "      <td>1.700</td>\n",
              "      <td>0.588</td>\n",
              "      <td>0.0</td>\n",
              "    </tr>\n",
              "    <tr>\n",
              "      <th>2</th>\n",
              "      <td>16.00</td>\n",
              "      <td>0</td>\n",
              "      <td>55.000</td>\n",
              "      <td>0</td>\n",
              "      <td>0.260</td>\n",
              "      <td>4.000</td>\n",
              "      <td>3.420</td>\n",
              "      <td>14.00</td>\n",
              "      <td>1.000</td>\n",
              "      <td>1.000</td>\n",
              "      <td>0.0</td>\n",
              "    </tr>\n",
              "    <tr>\n",
              "      <th>3</th>\n",
              "      <td>57.00</td>\n",
              "      <td>0</td>\n",
              "      <td>60.000</td>\n",
              "      <td>0</td>\n",
              "      <td>0.253</td>\n",
              "      <td>12.062</td>\n",
              "      <td>4.603</td>\n",
              "      <td>16.00</td>\n",
              "      <td>1.450</td>\n",
              "      <td>0.788</td>\n",
              "      <td>0.0</td>\n",
              "    </tr>\n",
              "    <tr>\n",
              "      <th>4</th>\n",
              "      <td>19.00</td>\n",
              "      <td>1</td>\n",
              "      <td>57.000</td>\n",
              "      <td>0</td>\n",
              "      <td>0.160</td>\n",
              "      <td>22.000</td>\n",
              "      <td>5.750</td>\n",
              "      <td>18.00</td>\n",
              "      <td>2.250</td>\n",
              "      <td>0.571</td>\n",
              "      <td>0.0</td>\n",
              "    </tr>\n",
              "    <tr>\n",
              "      <th>5</th>\n",
              "      <td>26.00</td>\n",
              "      <td>0</td>\n",
              "      <td>68.000</td>\n",
              "      <td>0</td>\n",
              "      <td>0.260</td>\n",
              "      <td>5.000</td>\n",
              "      <td>4.310</td>\n",
              "      <td>12.00</td>\n",
              "      <td>1.000</td>\n",
              "      <td>0.857</td>\n",
              "      <td>0.0</td>\n",
              "    </tr>\n",
              "    <tr>\n",
              "      <th>6</th>\n",
              "      <td>13.00</td>\n",
              "      <td>0</td>\n",
              "      <td>62.000</td>\n",
              "      <td>0</td>\n",
              "      <td>0.230</td>\n",
              "      <td>31.000</td>\n",
              "      <td>5.430</td>\n",
              "      <td>22.50</td>\n",
              "      <td>1.875</td>\n",
              "      <td>0.857</td>\n",
              "      <td>0.0</td>\n",
              "    </tr>\n",
              "    <tr>\n",
              "      <th>7</th>\n",
              "      <td>50.00</td>\n",
              "      <td>0</td>\n",
              "      <td>60.000</td>\n",
              "      <td>0</td>\n",
              "      <td>0.330</td>\n",
              "      <td>8.000</td>\n",
              "      <td>5.250</td>\n",
              "      <td>14.00</td>\n",
              "      <td>1.000</td>\n",
              "      <td>1.000</td>\n",
              "      <td>0.0</td>\n",
              "    </tr>\n",
              "    <tr>\n",
              "      <th>8</th>\n",
              "      <td>19.00</td>\n",
              "      <td>0</td>\n",
              "      <td>46.000</td>\n",
              "      <td>0</td>\n",
              "      <td>0.340</td>\n",
              "      <td>0.000</td>\n",
              "      <td>5.090</td>\n",
              "      <td>16.00</td>\n",
              "      <td>1.140</td>\n",
              "      <td>1.003</td>\n",
              "      <td>0.0</td>\n",
              "    </tr>\n",
              "    <tr>\n",
              "      <th>9</th>\n",
              "      <td>25.00</td>\n",
              "      <td>0</td>\n",
              "      <td>54.000</td>\n",
              "      <td>0</td>\n",
              "      <td>0.140</td>\n",
              "      <td>13.000</td>\n",
              "      <td>4.490</td>\n",
              "      <td>15.50</td>\n",
              "      <td>1.190</td>\n",
              "      <td>0.930</td>\n",
              "      <td>0.0</td>\n",
              "    </tr>\n",
              "    <tr>\n",
              "      <th>10</th>\n",
              "      <td>10.00</td>\n",
              "      <td>1</td>\n",
              "      <td>77.000</td>\n",
              "      <td>0</td>\n",
              "      <td>0.130</td>\n",
              "      <td>16.000</td>\n",
              "      <td>4.230</td>\n",
              "      <td>18.00</td>\n",
              "      <td>1.800</td>\n",
              "      <td>0.714</td>\n",
              "      <td>1.0</td>\n",
              "    </tr>\n",
              "    <tr>\n",
              "      <th>11</th>\n",
              "      <td>52.00</td>\n",
              "      <td>0</td>\n",
              "      <td>62.000</td>\n",
              "      <td>1</td>\n",
              "      <td>0.450</td>\n",
              "      <td>9.000</td>\n",
              "      <td>3.600</td>\n",
              "      <td>16.00</td>\n",
              "      <td>1.140</td>\n",
              "      <td>1.003</td>\n",
              "      <td>0.0</td>\n",
              "    </tr>\n",
              "    <tr>\n",
              "      <th>12</th>\n",
              "      <td>52.00</td>\n",
              "      <td>0</td>\n",
              "      <td>73.000</td>\n",
              "      <td>0</td>\n",
              "      <td>0.330</td>\n",
              "      <td>6.000</td>\n",
              "      <td>4.000</td>\n",
              "      <td>14.00</td>\n",
              "      <td>1.000</td>\n",
              "      <td>1.000</td>\n",
              "      <td>0.0</td>\n",
              "    </tr>\n",
              "    <tr>\n",
              "      <th>13</th>\n",
              "      <td>44.00</td>\n",
              "      <td>0</td>\n",
              "      <td>60.000</td>\n",
              "      <td>0</td>\n",
              "      <td>0.150</td>\n",
              "      <td>10.000</td>\n",
              "      <td>3.730</td>\n",
              "      <td>14.00</td>\n",
              "      <td>1.000</td>\n",
              "      <td>1.000</td>\n",
              "      <td>0.0</td>\n",
              "    </tr>\n",
              "    <tr>\n",
              "      <th>14</th>\n",
              "      <td>0.50</td>\n",
              "      <td>1</td>\n",
              "      <td>62.000</td>\n",
              "      <td>0</td>\n",
              "      <td>0.120</td>\n",
              "      <td>23.000</td>\n",
              "      <td>5.800</td>\n",
              "      <td>11.67</td>\n",
              "      <td>2.330</td>\n",
              "      <td>0.358</td>\n",
              "      <td>1.0</td>\n",
              "    </tr>\n",
              "    <tr>\n",
              "      <th>15</th>\n",
              "      <td>24.00</td>\n",
              "      <td>0</td>\n",
              "      <td>55.000</td>\n",
              "      <td>1</td>\n",
              "      <td>0.250</td>\n",
              "      <td>12.063</td>\n",
              "      <td>4.290</td>\n",
              "      <td>14.00</td>\n",
              "      <td>1.000</td>\n",
              "      <td>1.000</td>\n",
              "      <td>0.0</td>\n",
              "    </tr>\n",
              "    <tr>\n",
              "      <th>16</th>\n",
              "      <td>0.50</td>\n",
              "      <td>1</td>\n",
              "      <td>69.000</td>\n",
              "      <td>1</td>\n",
              "      <td>0.260</td>\n",
              "      <td>11.000</td>\n",
              "      <td>4.650</td>\n",
              "      <td>18.00</td>\n",
              "      <td>1.640</td>\n",
              "      <td>0.784</td>\n",
              "      <td>1.0</td>\n",
              "    </tr>\n",
              "    <tr>\n",
              "      <th>17</th>\n",
              "      <td>0.50</td>\n",
              "      <td>1</td>\n",
              "      <td>62.529</td>\n",
              "      <td>1</td>\n",
              "      <td>0.070</td>\n",
              "      <td>20.000</td>\n",
              "      <td>5.200</td>\n",
              "      <td>24.00</td>\n",
              "      <td>2.000</td>\n",
              "      <td>0.857</td>\n",
              "      <td>1.0</td>\n",
              "    </tr>\n",
              "    <tr>\n",
              "      <th>18</th>\n",
              "      <td>22.00</td>\n",
              "      <td>1</td>\n",
              "      <td>66.000</td>\n",
              "      <td>0</td>\n",
              "      <td>0.090</td>\n",
              "      <td>17.000</td>\n",
              "      <td>5.819</td>\n",
              "      <td>8.00</td>\n",
              "      <td>1.333</td>\n",
              "      <td>0.429</td>\n",
              "      <td>0.0</td>\n",
              "    </tr>\n",
              "    <tr>\n",
              "      <th>19</th>\n",
              "      <td>1.00</td>\n",
              "      <td>1</td>\n",
              "      <td>66.000</td>\n",
              "      <td>1</td>\n",
              "      <td>0.220</td>\n",
              "      <td>15.000</td>\n",
              "      <td>5.400</td>\n",
              "      <td>27.00</td>\n",
              "      <td>2.250</td>\n",
              "      <td>0.857</td>\n",
              "      <td>1.0</td>\n",
              "    </tr>\n",
              "    <tr>\n",
              "      <th>20</th>\n",
              "      <td>0.75</td>\n",
              "      <td>1</td>\n",
              "      <td>69.000</td>\n",
              "      <td>0</td>\n",
              "      <td>0.150</td>\n",
              "      <td>12.000</td>\n",
              "      <td>5.390</td>\n",
              "      <td>19.50</td>\n",
              "      <td>1.625</td>\n",
              "      <td>0.857</td>\n",
              "      <td>1.0</td>\n",
              "    </tr>\n",
              "    <tr>\n",
              "      <th>21</th>\n",
              "      <td>0.75</td>\n",
              "      <td>1</td>\n",
              "      <td>85.000</td>\n",
              "      <td>1</td>\n",
              "      <td>0.180</td>\n",
              "      <td>19.000</td>\n",
              "      <td>5.460</td>\n",
              "      <td>13.83</td>\n",
              "      <td>1.380</td>\n",
              "      <td>0.710</td>\n",
              "      <td>1.0</td>\n",
              "    </tr>\n",
              "    <tr>\n",
              "      <th>22</th>\n",
              "      <td>0.50</td>\n",
              "      <td>1</td>\n",
              "      <td>73.000</td>\n",
              "      <td>0</td>\n",
              "      <td>0.230</td>\n",
              "      <td>12.733</td>\n",
              "      <td>6.060</td>\n",
              "      <td>7.50</td>\n",
              "      <td>1.500</td>\n",
              "      <td>0.360</td>\n",
              "      <td>1.0</td>\n",
              "    </tr>\n",
              "    <tr>\n",
              "      <th>23</th>\n",
              "      <td>5.00</td>\n",
              "      <td>1</td>\n",
              "      <td>71.000</td>\n",
              "      <td>0</td>\n",
              "      <td>0.170</td>\n",
              "      <td>0.000</td>\n",
              "      <td>4.650</td>\n",
              "      <td>8.00</td>\n",
              "      <td>1.000</td>\n",
              "      <td>0.570</td>\n",
              "      <td>1.0</td>\n",
              "    </tr>\n",
              "    <tr>\n",
              "      <th>24</th>\n",
              "      <td>48.00</td>\n",
              "      <td>0</td>\n",
              "      <td>64.000</td>\n",
              "      <td>0</td>\n",
              "      <td>0.190</td>\n",
              "      <td>5.900</td>\n",
              "      <td>3.480</td>\n",
              "      <td>10.00</td>\n",
              "      <td>1.110</td>\n",
              "      <td>0.640</td>\n",
              "      <td>NaN</td>\n",
              "    </tr>\n",
              "    <tr>\n",
              "      <th>25</th>\n",
              "      <td>29.00</td>\n",
              "      <td>0</td>\n",
              "      <td>54.000</td>\n",
              "      <td>0</td>\n",
              "      <td>0.300</td>\n",
              "      <td>7.000</td>\n",
              "      <td>3.850</td>\n",
              "      <td>10.00</td>\n",
              "      <td>1.667</td>\n",
              "      <td>0.430</td>\n",
              "      <td>NaN</td>\n",
              "    </tr>\n",
              "    <tr>\n",
              "      <th>26</th>\n",
              "      <td>29.00</td>\n",
              "      <td>0</td>\n",
              "      <td>35.000</td>\n",
              "      <td>0</td>\n",
              "      <td>0.300</td>\n",
              "      <td>5.000</td>\n",
              "      <td>4.170</td>\n",
              "      <td>14.00</td>\n",
              "      <td>1.000</td>\n",
              "      <td>1.000</td>\n",
              "      <td>NaN</td>\n",
              "    </tr>\n",
              "    <tr>\n",
              "      <th>27</th>\n",
              "      <td>29.00</td>\n",
              "      <td>0</td>\n",
              "      <td>55.000</td>\n",
              "      <td>0</td>\n",
              "      <td>NaN</td>\n",
              "      <td>7.000</td>\n",
              "      <td>NaN</td>\n",
              "      <td>2.00</td>\n",
              "      <td>1.000</td>\n",
              "      <td>2.000</td>\n",
              "      <td>NaN</td>\n",
              "    </tr>\n",
              "    <tr>\n",
              "      <th>28</th>\n",
              "      <td>0.25</td>\n",
              "      <td>1</td>\n",
              "      <td>75.000</td>\n",
              "      <td>0</td>\n",
              "      <td>NaN</td>\n",
              "      <td>NaN</td>\n",
              "      <td>NaN</td>\n",
              "      <td>NaN</td>\n",
              "      <td>1.000</td>\n",
              "      <td>NaN</td>\n",
              "      <td>NaN</td>\n",
              "    </tr>\n",
              "    <tr>\n",
              "      <th>29</th>\n",
              "      <td>36.00</td>\n",
              "      <td>0</td>\n",
              "      <td>55.000</td>\n",
              "      <td>1</td>\n",
              "      <td>0.210</td>\n",
              "      <td>4.200</td>\n",
              "      <td>4.160</td>\n",
              "      <td>14.00</td>\n",
              "      <td>1.560</td>\n",
              "      <td>0.640</td>\n",
              "      <td>0.0</td>\n",
              "    </tr>\n",
              "  </tbody>\n",
              "</table>\n",
              "</div>"
            ],
            "text/plain": [
              "    survival  still-alive  ...   mult  alive-at-1\n",
              "0      11.00            0  ...  1.000         0.0\n",
              "1      19.00            0  ...  0.588         0.0\n",
              "2      16.00            0  ...  1.000         0.0\n",
              "3      57.00            0  ...  0.788         0.0\n",
              "4      19.00            1  ...  0.571         0.0\n",
              "5      26.00            0  ...  0.857         0.0\n",
              "6      13.00            0  ...  0.857         0.0\n",
              "7      50.00            0  ...  1.000         0.0\n",
              "8      19.00            0  ...  1.003         0.0\n",
              "9      25.00            0  ...  0.930         0.0\n",
              "10     10.00            1  ...  0.714         1.0\n",
              "11     52.00            0  ...  1.003         0.0\n",
              "12     52.00            0  ...  1.000         0.0\n",
              "13     44.00            0  ...  1.000         0.0\n",
              "14      0.50            1  ...  0.358         1.0\n",
              "15     24.00            0  ...  1.000         0.0\n",
              "16      0.50            1  ...  0.784         1.0\n",
              "17      0.50            1  ...  0.857         1.0\n",
              "18     22.00            1  ...  0.429         0.0\n",
              "19      1.00            1  ...  0.857         1.0\n",
              "20      0.75            1  ...  0.857         1.0\n",
              "21      0.75            1  ...  0.710         1.0\n",
              "22      0.50            1  ...  0.360         1.0\n",
              "23      5.00            1  ...  0.570         1.0\n",
              "24     48.00            0  ...  0.640         NaN\n",
              "25     29.00            0  ...  0.430         NaN\n",
              "26     29.00            0  ...  1.000         NaN\n",
              "27     29.00            0  ...  2.000         NaN\n",
              "28      0.25            1  ...    NaN         NaN\n",
              "29     36.00            0  ...  0.640         0.0\n",
              "\n",
              "[30 rows x 11 columns]"
            ]
          },
          "metadata": {
            "tags": []
          },
          "execution_count": 144
        }
      ]
    },
    {
      "cell_type": "code",
      "metadata": {
        "id": "Pyl31u-GRVXT",
        "colab_type": "code",
        "colab": {}
      },
      "source": [
        "from scipy.stats import chi2_contingency"
      ],
      "execution_count": 154,
      "outputs": []
    },
    {
      "cell_type": "code",
      "metadata": {
        "id": "_ruCliiQRuCg",
        "colab_type": "code",
        "colab": {
          "base_uri": "https://localhost:8080/",
          "height": 142
        },
        "outputId": "c2a7e64a-ef1e-48be-b67d-f33e1b57ceb1"
      },
      "source": [
        "pd.crosstab(df['still-alive'], df['pericardial-effusion'], normalize='index')\n"
      ],
      "execution_count": 157,
      "outputs": [
        {
          "output_type": "execute_result",
          "data": {
            "text/html": [
              "<div>\n",
              "<style scoped>\n",
              "    .dataframe tbody tr th:only-of-type {\n",
              "        vertical-align: middle;\n",
              "    }\n",
              "\n",
              "    .dataframe tbody tr th {\n",
              "        vertical-align: top;\n",
              "    }\n",
              "\n",
              "    .dataframe thead th {\n",
              "        text-align: right;\n",
              "    }\n",
              "</style>\n",
              "<table border=\"1\" class=\"dataframe\">\n",
              "  <thead>\n",
              "    <tr style=\"text-align: right;\">\n",
              "      <th>pericardial-effusion</th>\n",
              "      <th>0</th>\n",
              "      <th>1</th>\n",
              "    </tr>\n",
              "    <tr>\n",
              "      <th>still-alive</th>\n",
              "      <th></th>\n",
              "      <th></th>\n",
              "    </tr>\n",
              "  </thead>\n",
              "  <tbody>\n",
              "    <tr>\n",
              "      <th>0</th>\n",
              "      <td>0.863636</td>\n",
              "      <td>0.136364</td>\n",
              "    </tr>\n",
              "    <tr>\n",
              "      <th>1</th>\n",
              "      <td>0.720930</td>\n",
              "      <td>0.279070</td>\n",
              "    </tr>\n",
              "  </tbody>\n",
              "</table>\n",
              "</div>"
            ],
            "text/plain": [
              "pericardial-effusion         0         1\n",
              "still-alive                             \n",
              "0                     0.863636  0.136364\n",
              "1                     0.720930  0.279070"
            ]
          },
          "metadata": {
            "tags": []
          },
          "execution_count": 157
        }
      ]
    },
    {
      "cell_type": "code",
      "metadata": {
        "id": "szEC-PGIOik7",
        "colab_type": "code",
        "colab": {
          "base_uri": "https://localhost:8080/",
          "height": 34
        },
        "outputId": "51625f3a-b362-4e3d-952f-ef3f3ab6365f"
      },
      "source": [
        "# FIRST\n",
        "# CHI-2 TEST\n",
        "\n",
        "# H-null: Precardial effusion does not influence mortality\n",
        "# H-alt:  Precardial effusion does influence mortality\n",
        "# Confidence Interval = 95%\n",
        "g, p, dof, expected = chi2_contingency(pd.crosstab(df['still-alive'], df['pericardial-effusion'], normalize='index'))\n",
        "print(p)\n",
        "# Conclusion: Failed to reject null hypothesis; p-value exceeds 0.05 for a\n",
        "# 95% confidence interval."
      ],
      "execution_count": 159,
      "outputs": [
        {
          "output_type": "stream",
          "text": [
            "0.1350963586157063\n"
          ],
          "name": "stdout"
        }
      ]
    },
    {
      "cell_type": "code",
      "metadata": {
        "id": "mTRA7_zqS7lD",
        "colab_type": "code",
        "colab": {
          "base_uri": "https://localhost:8080/",
          "height": 142
        },
        "outputId": "1d49020e-a4be-4cd6-ac69-ab02af61d887"
      },
      "source": [
        "pd.crosstab(df['alive-at-1'], df['pericardial-effusion'], normalize='index')*100"
      ],
      "execution_count": 162,
      "outputs": [
        {
          "output_type": "execute_result",
          "data": {
            "text/html": [
              "<div>\n",
              "<style scoped>\n",
              "    .dataframe tbody tr th:only-of-type {\n",
              "        vertical-align: middle;\n",
              "    }\n",
              "\n",
              "    .dataframe tbody tr th {\n",
              "        vertical-align: top;\n",
              "    }\n",
              "\n",
              "    .dataframe thead th {\n",
              "        text-align: right;\n",
              "    }\n",
              "</style>\n",
              "<table border=\"1\" class=\"dataframe\">\n",
              "  <thead>\n",
              "    <tr style=\"text-align: right;\">\n",
              "      <th>pericardial-effusion</th>\n",
              "      <th>0</th>\n",
              "      <th>1</th>\n",
              "    </tr>\n",
              "    <tr>\n",
              "      <th>alive-at-1</th>\n",
              "      <th></th>\n",
              "      <th></th>\n",
              "    </tr>\n",
              "  </thead>\n",
              "  <tbody>\n",
              "    <tr>\n",
              "      <th>0.0</th>\n",
              "      <td>86.000000</td>\n",
              "      <td>14.000000</td>\n",
              "    </tr>\n",
              "    <tr>\n",
              "      <th>1.0</th>\n",
              "      <td>66.666667</td>\n",
              "      <td>33.333333</td>\n",
              "    </tr>\n",
              "  </tbody>\n",
              "</table>\n",
              "</div>"
            ],
            "text/plain": [
              "pericardial-effusion          0          1\n",
              "alive-at-1                                \n",
              "0.0                   86.000000  14.000000\n",
              "1.0                   66.666667  33.333333"
            ]
          },
          "metadata": {
            "tags": []
          },
          "execution_count": 162
        }
      ]
    },
    {
      "cell_type": "code",
      "metadata": {
        "id": "PrKi-xkOSRbD",
        "colab_type": "code",
        "colab": {
          "base_uri": "https://localhost:8080/",
          "height": 34
        },
        "outputId": "76035583-3892-465c-8412-9dadc894cef2"
      },
      "source": [
        "# SECOND\n",
        "# CHI-2 TEST\n",
        "\n",
        "# H-null: Precardial effusion does not effect within a year\n",
        "# H-alt: Precardial effusion does effect within a year\n",
        "# Confidence Interval = 95%\n",
        "\n",
        "g, p, dof, expected = chi2_contingency(pd.crosstab(df['alive-at-1'], df['pericardial-effusion'], normalize='index'))\n",
        "print(p)\n",
        "\n",
        "# Conclusion: Failed to reject the null hypothesis due to the p-value exceeding\n",
        "# 95% confidence interval; mortality after a year may not be influenced by precardial effusion.\n",
        "\n",
        "\n"
      ],
      "execution_count": 160,
      "outputs": [
        {
          "output_type": "stream",
          "text": [
            "0.17959505707221374\n"
          ],
          "name": "stdout"
        }
      ]
    },
    {
      "cell_type": "markdown",
      "metadata": {
        "id": "ZM8JckA2bgnp",
        "colab_type": "text"
      },
      "source": [
        "## Part 3 - Confidence Intervals\n",
        "\n",
        "- Pick two of the samples that you used above in your t-tests and please find a 95% confidence interval around their sample means in order to communicate the level of precision with which we are able to estimate them.\n",
        "\n",
        "- Please plot both 95% confidence intervals to display them visually. You may choose any suitable the plotting method.\n"
      ]
    },
    {
      "cell_type": "code",
      "metadata": {
        "id": "uBNWsxTUInzf",
        "colab_type": "code",
        "colab": {}
      },
      "source": [
        "import matplotlib.pyplot as plt\n"
      ],
      "execution_count": 143,
      "outputs": []
    },
    {
      "cell_type": "markdown",
      "metadata": {
        "id": "8JZaVzIpXgFG",
        "colab_type": "text"
      },
      "source": [
        "## Part 4 - Bayesian vs Frequentist Statistics\n",
        "\n",
        "Using a minimum of 2-3 sentences, give an explanation of Bayesian and Frequentist statistics - IN YOUR OWN WORDS, DO NOT PLAGIARIZE- and then compare and contrast these two approaches to statistical inference.\n",
        "\n"
      ]
    },
    {
      "cell_type": "markdown",
      "metadata": {
        "id": "MXiyzSbFIztQ",
        "colab_type": "text"
      },
      "source": [
        "### YOUR ANSWER HERE\n",
        "\n",
        "Frequentist approach uses a less computationally intensive process that reduces computational cost by holding some parapeters fixed. Inversly, a bayesian approach describes parameters probablistcally; requiring more calculations for analysis. A frequentist approach could be more sutable for hypothesis testing while a bayseian approach has a better fit in estimation of a population to describe an unknown aspect. "
      ]
    },
    {
      "cell_type": "markdown",
      "metadata": {
        "id": "JSylP1W9JzJP",
        "colab_type": "text"
      },
      "source": [
        "# Stretch Goals: \n",
        "Do these to get a 3 on the corresponding sections. These are **not** required in order to pass the Sprint Challenge.\n",
        "\n",
        "## Part 1: \n",
        "\n",
        "In order to get a 3 on this section make sure that you do not miss any of the specified data loading tasks, also, make sure that your work **throughout the entire sprint challenge** is particularly well commented, easy to follow, and thorough. \n",
        "\n",
        "## Part 2:\n",
        "\n",
        "Write functions that can calculate t-tests and chi^2 tests on all of the appropriate column combinations from the dataset. \n",
        "\n",
        "## Part 3: \n",
        "\n",
        "Plot you confidence intervals using all three plotting methods that were demonstrated in class.\n",
        "\n",
        "## Part 4:\n",
        "\n",
        "Give an extra awesome explanation of Bayesian vs Frequentist Statistics. Maybe use code or visualizations, or any other means necessary to show an exceptional grasp of these high level concepts."
      ]
    },
    {
      "cell_type": "code",
      "metadata": {
        "id": "a-V7o2vHK3LT",
        "colab_type": "code",
        "colab": {}
      },
      "source": [
        "# YOUR CODE HERE - Feel free to add as many code and text cells as necessary"
      ],
      "execution_count": null,
      "outputs": []
    }
  ]
}